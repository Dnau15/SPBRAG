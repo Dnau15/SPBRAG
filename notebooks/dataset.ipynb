{
 "cells": [
  {
   "cell_type": "markdown",
   "metadata": {},
   "source": [
    "# Dataset"
   ]
  },
  {
   "cell_type": "code",
   "execution_count": 1,
   "metadata": {},
   "outputs": [
    {
     "name": "stderr",
     "output_type": "stream",
     "text": [
      "/home/dmitrii/micromamba/envs/spbrag/lib/python3.11/site-packages/tqdm/auto.py:21: TqdmWarning: IProgress not found. Please update jupyter and ipywidgets. See https://ipywidgets.readthedocs.io/en/stable/user_install.html\n",
      "  from .autonotebook import tqdm as notebook_tqdm\n"
     ]
    }
   ],
   "source": [
    "from datasets import load_dataset\n",
    "import pandas as pd\n",
    "\n",
    "merge_rewrite_dataset = load_dataset(\"positivethoughts/merge_rewrite_13.3k\")\n",
    "databricks_dataset = load_dataset('databricks/databricks-dolly-15k')"
   ]
  },
  {
   "cell_type": "code",
   "execution_count": 2,
   "metadata": {},
   "outputs": [],
   "source": [
    "merge_rewrite_dataset = merge_rewrite_dataset['train'].to_pandas()\n",
    "databricks_dataset = databricks_dataset['train'].to_pandas()"
   ]
  },
  {
   "cell_type": "markdown",
   "metadata": {},
   "source": [
    "## Let's check datasets"
   ]
  },
  {
   "cell_type": "code",
   "execution_count": 3,
   "metadata": {},
   "outputs": [
    {
     "data": {
      "text/html": [
       "<div>\n",
       "<style scoped>\n",
       "    .dataframe tbody tr th:only-of-type {\n",
       "        vertical-align: middle;\n",
       "    }\n",
       "\n",
       "    .dataframe tbody tr th {\n",
       "        vertical-align: top;\n",
       "    }\n",
       "\n",
       "    .dataframe thead th {\n",
       "        text-align: right;\n",
       "    }\n",
       "</style>\n",
       "<table border=\"1\" class=\"dataframe\">\n",
       "  <thead>\n",
       "    <tr style=\"text-align: right;\">\n",
       "      <th></th>\n",
       "      <th>rewrite_prompt</th>\n",
       "      <th>rewritten_text</th>\n",
       "      <th>original_text</th>\n",
       "      <th>id</th>\n",
       "    </tr>\n",
       "  </thead>\n",
       "  <tbody>\n",
       "    <tr>\n",
       "      <th>0</th>\n",
       "      <td>Paraphrase the provided text effectively.</td>\n",
       "      <td>A batch of cookies were made by Amanda and she...</td>\n",
       "      <td>Amanda baked cookies and will bring Jerry some...</td>\n",
       "      <td>None</td>\n",
       "    </tr>\n",
       "    <tr>\n",
       "      <th>1</th>\n",
       "      <td>Rewrite the text in a more informal tone while...</td>\n",
       "      <td>Olivia and Olivier are both backing the libera...</td>\n",
       "      <td>Olivia and Olivier are voting for liberals in ...</td>\n",
       "      <td>None</td>\n",
       "    </tr>\n",
       "    <tr>\n",
       "      <th>2</th>\n",
       "      <td>Rearrange the sentence structure for a fresh p...</td>\n",
       "      <td>To get more stuff done, Kim may consider tryin...</td>\n",
       "      <td>Kim may try the pomodoro technique recommended...</td>\n",
       "      <td>None</td>\n",
       "    </tr>\n",
       "    <tr>\n",
       "      <th>3</th>\n",
       "      <td>Shift the focus to Rachel's perspective withou...</td>\n",
       "      <td>Rachel stands outside Edward's door, feeling a...</td>\n",
       "      <td>Edward thinks he is in love with Bella. Rachel...</td>\n",
       "      <td>None</td>\n",
       "    </tr>\n",
       "    <tr>\n",
       "      <th>4</th>\n",
       "      <td>Adapt the text for a workplace setting while m...</td>\n",
       "      <td>Samantha is feeling uncertain at work after ov...</td>\n",
       "      <td>Sam is confused, because he overheard Rick com...</td>\n",
       "      <td>None</td>\n",
       "    </tr>\n",
       "  </tbody>\n",
       "</table>\n",
       "</div>"
      ],
      "text/plain": [
       "                                      rewrite_prompt  \\\n",
       "0          Paraphrase the provided text effectively.   \n",
       "1  Rewrite the text in a more informal tone while...   \n",
       "2  Rearrange the sentence structure for a fresh p...   \n",
       "3  Shift the focus to Rachel's perspective withou...   \n",
       "4  Adapt the text for a workplace setting while m...   \n",
       "\n",
       "                                      rewritten_text  \\\n",
       "0  A batch of cookies were made by Amanda and she...   \n",
       "1  Olivia and Olivier are both backing the libera...   \n",
       "2  To get more stuff done, Kim may consider tryin...   \n",
       "3  Rachel stands outside Edward's door, feeling a...   \n",
       "4  Samantha is feeling uncertain at work after ov...   \n",
       "\n",
       "                                       original_text    id  \n",
       "0  Amanda baked cookies and will bring Jerry some...  None  \n",
       "1  Olivia and Olivier are voting for liberals in ...  None  \n",
       "2  Kim may try the pomodoro technique recommended...  None  \n",
       "3  Edward thinks he is in love with Bella. Rachel...  None  \n",
       "4  Sam is confused, because he overheard Rick com...  None  "
      ]
     },
     "execution_count": 3,
     "metadata": {},
     "output_type": "execute_result"
    }
   ],
   "source": [
    "merge_rewrite_dataset.head()"
   ]
  },
  {
   "cell_type": "code",
   "execution_count": 4,
   "metadata": {},
   "outputs": [
    {
     "data": {
      "text/html": [
       "<div>\n",
       "<style scoped>\n",
       "    .dataframe tbody tr th:only-of-type {\n",
       "        vertical-align: middle;\n",
       "    }\n",
       "\n",
       "    .dataframe tbody tr th {\n",
       "        vertical-align: top;\n",
       "    }\n",
       "\n",
       "    .dataframe thead th {\n",
       "        text-align: right;\n",
       "    }\n",
       "</style>\n",
       "<table border=\"1\" class=\"dataframe\">\n",
       "  <thead>\n",
       "    <tr style=\"text-align: right;\">\n",
       "      <th></th>\n",
       "      <th>instruction</th>\n",
       "      <th>context</th>\n",
       "      <th>response</th>\n",
       "      <th>category</th>\n",
       "    </tr>\n",
       "  </thead>\n",
       "  <tbody>\n",
       "    <tr>\n",
       "      <th>0</th>\n",
       "      <td>When did Virgin Australia start operating?</td>\n",
       "      <td>Virgin Australia, the trading name of Virgin A...</td>\n",
       "      <td>Virgin Australia commenced services on 31 Augu...</td>\n",
       "      <td>closed_qa</td>\n",
       "    </tr>\n",
       "    <tr>\n",
       "      <th>1</th>\n",
       "      <td>Which is a species of fish? Tope or Rope</td>\n",
       "      <td></td>\n",
       "      <td>Tope</td>\n",
       "      <td>classification</td>\n",
       "    </tr>\n",
       "    <tr>\n",
       "      <th>2</th>\n",
       "      <td>Why can camels survive for long without water?</td>\n",
       "      <td></td>\n",
       "      <td>Camels use the fat in their humps to keep them...</td>\n",
       "      <td>open_qa</td>\n",
       "    </tr>\n",
       "    <tr>\n",
       "      <th>3</th>\n",
       "      <td>Alice's parents have three daughters: Amy, Jes...</td>\n",
       "      <td></td>\n",
       "      <td>The name of the third daughter is Alice</td>\n",
       "      <td>open_qa</td>\n",
       "    </tr>\n",
       "    <tr>\n",
       "      <th>4</th>\n",
       "      <td>When was Tomoaki Komorida born?</td>\n",
       "      <td>Komorida was born in Kumamoto Prefecture on Ju...</td>\n",
       "      <td>Tomoaki Komorida was born on July 10,1981.</td>\n",
       "      <td>closed_qa</td>\n",
       "    </tr>\n",
       "  </tbody>\n",
       "</table>\n",
       "</div>"
      ],
      "text/plain": [
       "                                         instruction  \\\n",
       "0         When did Virgin Australia start operating?   \n",
       "1           Which is a species of fish? Tope or Rope   \n",
       "2     Why can camels survive for long without water?   \n",
       "3  Alice's parents have three daughters: Amy, Jes...   \n",
       "4                    When was Tomoaki Komorida born?   \n",
       "\n",
       "                                             context  \\\n",
       "0  Virgin Australia, the trading name of Virgin A...   \n",
       "1                                                      \n",
       "2                                                      \n",
       "3                                                      \n",
       "4  Komorida was born in Kumamoto Prefecture on Ju...   \n",
       "\n",
       "                                            response        category  \n",
       "0  Virgin Australia commenced services on 31 Augu...       closed_qa  \n",
       "1                                               Tope  classification  \n",
       "2  Camels use the fat in their humps to keep them...         open_qa  \n",
       "3            The name of the third daughter is Alice         open_qa  \n",
       "4         Tomoaki Komorida was born on July 10,1981.       closed_qa  "
      ]
     },
     "execution_count": 4,
     "metadata": {},
     "output_type": "execute_result"
    }
   ],
   "source": [
    "databricks_dataset.head()"
   ]
  },
  {
   "cell_type": "markdown",
   "metadata": {},
   "source": [
    "## Data preprocessing"
   ]
  },
  {
   "cell_type": "code",
   "execution_count": 5,
   "metadata": {},
   "outputs": [],
   "source": [
    "merge_rewrite_dataset = merge_rewrite_dataset.drop(columns=['id'])"
   ]
  },
  {
   "cell_type": "code",
   "execution_count": 6,
   "metadata": {},
   "outputs": [
    {
     "data": {
      "text/html": [
       "<div>\n",
       "<style scoped>\n",
       "    .dataframe tbody tr th:only-of-type {\n",
       "        vertical-align: middle;\n",
       "    }\n",
       "\n",
       "    .dataframe tbody tr th {\n",
       "        vertical-align: top;\n",
       "    }\n",
       "\n",
       "    .dataframe thead th {\n",
       "        text-align: right;\n",
       "    }\n",
       "</style>\n",
       "<table border=\"1\" class=\"dataframe\">\n",
       "  <thead>\n",
       "    <tr style=\"text-align: right;\">\n",
       "      <th></th>\n",
       "      <th>rewrite_prompt</th>\n",
       "      <th>rewritten_text</th>\n",
       "      <th>original_text</th>\n",
       "    </tr>\n",
       "  </thead>\n",
       "  <tbody>\n",
       "  </tbody>\n",
       "</table>\n",
       "</div>"
      ],
      "text/plain": [
       "Empty DataFrame\n",
       "Columns: [rewrite_prompt, rewritten_text, original_text]\n",
       "Index: []"
      ]
     },
     "execution_count": 6,
     "metadata": {},
     "output_type": "execute_result"
    }
   ],
   "source": [
    "merge_rewrite_dataset_duplicates = merge_rewrite_dataset[merge_rewrite_dataset.duplicated(keep=False)]\n",
    "merge_rewrite_dataset_duplicates"
   ]
  },
  {
   "cell_type": "code",
   "execution_count": 7,
   "metadata": {},
   "outputs": [
    {
     "data": {
      "text/html": [
       "<div>\n",
       "<style scoped>\n",
       "    .dataframe tbody tr th:only-of-type {\n",
       "        vertical-align: middle;\n",
       "    }\n",
       "\n",
       "    .dataframe tbody tr th {\n",
       "        vertical-align: top;\n",
       "    }\n",
       "\n",
       "    .dataframe thead th {\n",
       "        text-align: right;\n",
       "    }\n",
       "</style>\n",
       "<table border=\"1\" class=\"dataframe\">\n",
       "  <thead>\n",
       "    <tr style=\"text-align: right;\">\n",
       "      <th></th>\n",
       "      <th>instruction</th>\n",
       "      <th>context</th>\n",
       "      <th>response</th>\n",
       "      <th>category</th>\n",
       "    </tr>\n",
       "  </thead>\n",
       "  <tbody>\n",
       "    <tr>\n",
       "      <th>1113</th>\n",
       "      <td>Why is the sky blue?</td>\n",
       "      <td></td>\n",
       "      <td>Blue light is scattered in all directions by t...</td>\n",
       "      <td>general_qa</td>\n",
       "    </tr>\n",
       "    <tr>\n",
       "      <th>2958</th>\n",
       "      <td>Why is the sky blue?</td>\n",
       "      <td></td>\n",
       "      <td>Blue light is scattered in all directions by t...</td>\n",
       "      <td>general_qa</td>\n",
       "    </tr>\n",
       "    <tr>\n",
       "      <th>3938</th>\n",
       "      <td>Which era of counterculture were the Beatles p...</td>\n",
       "      <td>he Beatles were an English rock band, formed i...</td>\n",
       "      <td>The Beatles were integral to the development o...</td>\n",
       "      <td>closed_qa</td>\n",
       "    </tr>\n",
       "    <tr>\n",
       "      <th>4156</th>\n",
       "      <td>How is it that some high net-worth individuals...</td>\n",
       "      <td></td>\n",
       "      <td>The Internal Revenue Service (IRS) taxes regul...</td>\n",
       "      <td>open_qa</td>\n",
       "    </tr>\n",
       "    <tr>\n",
       "      <th>4618</th>\n",
       "      <td>What are the four major subregions in Central ...</td>\n",
       "      <td>\"The Central Otago wine region is broken into ...</td>\n",
       "      <td>The Central Otago wine region is broken into m...</td>\n",
       "      <td>closed_qa</td>\n",
       "    </tr>\n",
       "    <tr>\n",
       "      <th>4710</th>\n",
       "      <td>Explain the use of screens in basketball</td>\n",
       "      <td></td>\n",
       "      <td>In basketball, when a team has the ball, one p...</td>\n",
       "      <td>open_qa</td>\n",
       "    </tr>\n",
       "    <tr>\n",
       "      <th>6342</th>\n",
       "      <td>Explain the use of screens in basketball</td>\n",
       "      <td></td>\n",
       "      <td>In basketball, when a team has the ball, one p...</td>\n",
       "      <td>open_qa</td>\n",
       "    </tr>\n",
       "    <tr>\n",
       "      <th>6874</th>\n",
       "      <td>what does it mean to have brunette hair?</td>\n",
       "      <td></td>\n",
       "      <td>A person with brunette hair, or a brunette, is...</td>\n",
       "      <td>open_qa</td>\n",
       "    </tr>\n",
       "    <tr>\n",
       "      <th>7740</th>\n",
       "      <td>Who is the protagonist in CyberPunk 2077?</td>\n",
       "      <td>Cyberpunk 2077 is a 2020 action role-playing v...</td>\n",
       "      <td>The main story revolves around the protagonist...</td>\n",
       "      <td>closed_qa</td>\n",
       "    </tr>\n",
       "    <tr>\n",
       "      <th>7809</th>\n",
       "      <td>Which era of counterculture were the Beatles p...</td>\n",
       "      <td>he Beatles were an English rock band, formed i...</td>\n",
       "      <td>The Beatles were integral to the development o...</td>\n",
       "      <td>closed_qa</td>\n",
       "    </tr>\n",
       "    <tr>\n",
       "      <th>8110</th>\n",
       "      <td>How is it that some high net-worth individuals...</td>\n",
       "      <td></td>\n",
       "      <td>The Internal Revenue Service (IRS) taxes regul...</td>\n",
       "      <td>open_qa</td>\n",
       "    </tr>\n",
       "    <tr>\n",
       "      <th>9206</th>\n",
       "      <td>Who is the protagonist in CyberPunk 2077?</td>\n",
       "      <td>Cyberpunk 2077 is a 2020 action role-playing v...</td>\n",
       "      <td>The main story revolves around the protagonist...</td>\n",
       "      <td>closed_qa</td>\n",
       "    </tr>\n",
       "    <tr>\n",
       "      <th>9674</th>\n",
       "      <td>what does it mean to have brunette hair?</td>\n",
       "      <td></td>\n",
       "      <td>A person with brunette hair, or a brunette, is...</td>\n",
       "      <td>open_qa</td>\n",
       "    </tr>\n",
       "    <tr>\n",
       "      <th>10218</th>\n",
       "      <td>What are the four major subregions in Central ...</td>\n",
       "      <td>\"The Central Otago wine region is broken into ...</td>\n",
       "      <td>The Central Otago wine region is broken into m...</td>\n",
       "      <td>closed_qa</td>\n",
       "    </tr>\n",
       "    <tr>\n",
       "      <th>12487</th>\n",
       "      <td>What do giant Pandas eats?</td>\n",
       "      <td>The giant panda is a bear species endemic to C...</td>\n",
       "      <td>the giant panda is a folivore, with bamboo sho...</td>\n",
       "      <td>closed_qa</td>\n",
       "    </tr>\n",
       "    <tr>\n",
       "      <th>14821</th>\n",
       "      <td>What do giant Pandas eats?</td>\n",
       "      <td>The giant panda is a bear species endemic to C...</td>\n",
       "      <td>the giant panda is a folivore, with bamboo sho...</td>\n",
       "      <td>closed_qa</td>\n",
       "    </tr>\n",
       "  </tbody>\n",
       "</table>\n",
       "</div>"
      ],
      "text/plain": [
       "                                             instruction  \\\n",
       "1113                                Why is the sky blue?   \n",
       "2958                                Why is the sky blue?   \n",
       "3938   Which era of counterculture were the Beatles p...   \n",
       "4156   How is it that some high net-worth individuals...   \n",
       "4618   What are the four major subregions in Central ...   \n",
       "4710            Explain the use of screens in basketball   \n",
       "6342            Explain the use of screens in basketball   \n",
       "6874            what does it mean to have brunette hair?   \n",
       "7740           Who is the protagonist in CyberPunk 2077?   \n",
       "7809   Which era of counterculture were the Beatles p...   \n",
       "8110   How is it that some high net-worth individuals...   \n",
       "9206           Who is the protagonist in CyberPunk 2077?   \n",
       "9674            what does it mean to have brunette hair?   \n",
       "10218  What are the four major subregions in Central ...   \n",
       "12487                         What do giant Pandas eats?   \n",
       "14821                         What do giant Pandas eats?   \n",
       "\n",
       "                                                 context  \\\n",
       "1113                                                       \n",
       "2958                                                       \n",
       "3938   he Beatles were an English rock band, formed i...   \n",
       "4156                                                       \n",
       "4618   \"The Central Otago wine region is broken into ...   \n",
       "4710                                                       \n",
       "6342                                                       \n",
       "6874                                                       \n",
       "7740   Cyberpunk 2077 is a 2020 action role-playing v...   \n",
       "7809   he Beatles were an English rock band, formed i...   \n",
       "8110                                                       \n",
       "9206   Cyberpunk 2077 is a 2020 action role-playing v...   \n",
       "9674                                                       \n",
       "10218  \"The Central Otago wine region is broken into ...   \n",
       "12487  The giant panda is a bear species endemic to C...   \n",
       "14821  The giant panda is a bear species endemic to C...   \n",
       "\n",
       "                                                response    category  \n",
       "1113   Blue light is scattered in all directions by t...  general_qa  \n",
       "2958   Blue light is scattered in all directions by t...  general_qa  \n",
       "3938   The Beatles were integral to the development o...   closed_qa  \n",
       "4156   The Internal Revenue Service (IRS) taxes regul...     open_qa  \n",
       "4618   The Central Otago wine region is broken into m...   closed_qa  \n",
       "4710   In basketball, when a team has the ball, one p...     open_qa  \n",
       "6342   In basketball, when a team has the ball, one p...     open_qa  \n",
       "6874   A person with brunette hair, or a brunette, is...     open_qa  \n",
       "7740   The main story revolves around the protagonist...   closed_qa  \n",
       "7809   The Beatles were integral to the development o...   closed_qa  \n",
       "8110   The Internal Revenue Service (IRS) taxes regul...     open_qa  \n",
       "9206   The main story revolves around the protagonist...   closed_qa  \n",
       "9674   A person with brunette hair, or a brunette, is...     open_qa  \n",
       "10218  The Central Otago wine region is broken into m...   closed_qa  \n",
       "12487  the giant panda is a folivore, with bamboo sho...   closed_qa  \n",
       "14821  the giant panda is a folivore, with bamboo sho...   closed_qa  "
      ]
     },
     "execution_count": 7,
     "metadata": {},
     "output_type": "execute_result"
    }
   ],
   "source": [
    "databricks_dataset_duplicates = databricks_dataset[databricks_dataset.duplicated(keep=False)]\n",
    "databricks_dataset_duplicates"
   ]
  },
  {
   "cell_type": "code",
   "execution_count": 8,
   "metadata": {},
   "outputs": [],
   "source": [
    "databricks_dataset = databricks_dataset.drop_duplicates()"
   ]
  },
  {
   "cell_type": "code",
   "execution_count": 9,
   "metadata": {},
   "outputs": [
    {
     "data": {
      "text/html": [
       "<div>\n",
       "<style scoped>\n",
       "    .dataframe tbody tr th:only-of-type {\n",
       "        vertical-align: middle;\n",
       "    }\n",
       "\n",
       "    .dataframe tbody tr th {\n",
       "        vertical-align: top;\n",
       "    }\n",
       "\n",
       "    .dataframe thead th {\n",
       "        text-align: right;\n",
       "    }\n",
       "</style>\n",
       "<table border=\"1\" class=\"dataframe\">\n",
       "  <thead>\n",
       "    <tr style=\"text-align: right;\">\n",
       "      <th></th>\n",
       "      <th>instruction</th>\n",
       "      <th>context</th>\n",
       "      <th>response</th>\n",
       "      <th>category</th>\n",
       "    </tr>\n",
       "  </thead>\n",
       "  <tbody>\n",
       "  </tbody>\n",
       "</table>\n",
       "</div>"
      ],
      "text/plain": [
       "Empty DataFrame\n",
       "Columns: [instruction, context, response, category]\n",
       "Index: []"
      ]
     },
     "execution_count": 9,
     "metadata": {},
     "output_type": "execute_result"
    }
   ],
   "source": [
    "databricks_dataset_duplicates = databricks_dataset[databricks_dataset.duplicated(keep=False)]\n",
    "databricks_dataset_duplicates"
   ]
  },
  {
   "cell_type": "code",
   "execution_count": 10,
   "metadata": {},
   "outputs": [
    {
     "data": {
      "text/plain": [
       "array(['closed_qa', 'classification', 'open_qa', 'information_extraction',\n",
       "       'brainstorming', 'general_qa', 'summarization', 'creative_writing'],\n",
       "      dtype=object)"
      ]
     },
     "execution_count": 10,
     "metadata": {},
     "output_type": "execute_result"
    }
   ],
   "source": [
    "databricks_dataset.category.unique()"
   ]
  },
  {
   "cell_type": "code",
   "execution_count": 11,
   "metadata": {},
   "outputs": [
    {
     "data": {
      "text/plain": [
       "instruction    0\n",
       "context        0\n",
       "response       0\n",
       "category       0\n",
       "dtype: int64"
      ]
     },
     "execution_count": 11,
     "metadata": {},
     "output_type": "execute_result"
    }
   ],
   "source": [
    "databricks_dataset.isna().sum()"
   ]
  },
  {
   "cell_type": "markdown",
   "metadata": {},
   "source": [
    "## Deep Data Understanding"
   ]
  },
  {
   "cell_type": "code",
   "execution_count": 12,
   "metadata": {},
   "outputs": [
    {
     "name": "stdout",
     "output_type": "stream",
     "text": [
      "Empty DataFrame\n",
      "Columns: [instruction, context, response, category]\n",
      "Index: []\n"
     ]
    },
    {
     "data": {
      "text/html": [
       "<div>\n",
       "<style scoped>\n",
       "    .dataframe tbody tr th:only-of-type {\n",
       "        vertical-align: middle;\n",
       "    }\n",
       "\n",
       "    .dataframe tbody tr th {\n",
       "        vertical-align: top;\n",
       "    }\n",
       "\n",
       "    .dataframe thead th {\n",
       "        text-align: right;\n",
       "    }\n",
       "</style>\n",
       "<table border=\"1\" class=\"dataframe\">\n",
       "  <thead>\n",
       "    <tr style=\"text-align: right;\">\n",
       "      <th></th>\n",
       "      <th>instruction</th>\n",
       "      <th>context</th>\n",
       "      <th>response</th>\n",
       "      <th>category</th>\n",
       "    </tr>\n",
       "  </thead>\n",
       "  <tbody>\n",
       "    <tr>\n",
       "      <th>0</th>\n",
       "      <td>When did Virgin Australia start operating?</td>\n",
       "      <td>Virgin Australia, the trading name of Virgin A...</td>\n",
       "      <td>Virgin Australia commenced services on 31 Augu...</td>\n",
       "      <td>closed_qa</td>\n",
       "    </tr>\n",
       "    <tr>\n",
       "      <th>4</th>\n",
       "      <td>When was Tomoaki Komorida born?</td>\n",
       "      <td>Komorida was born in Kumamoto Prefecture on Ju...</td>\n",
       "      <td>Tomoaki Komorida was born on July 10,1981.</td>\n",
       "      <td>closed_qa</td>\n",
       "    </tr>\n",
       "    <tr>\n",
       "      <th>6</th>\n",
       "      <td>Given a reference text about Lollapalooza, whe...</td>\n",
       "      <td>Lollapalooza /ˌlɒləpəˈluːzə/ (Lolla) is an ann...</td>\n",
       "      <td>Lollapalooze is an annual musical festival hel...</td>\n",
       "      <td>closed_qa</td>\n",
       "    </tr>\n",
       "    <tr>\n",
       "      <th>11</th>\n",
       "      <td>Who was Kyle Van Zyl playing against when he s...</td>\n",
       "      <td>Van Zyl joined the Eastern Province Kings Acad...</td>\n",
       "      <td>Kyle Van Zyl was playing against Boland U21 wh...</td>\n",
       "      <td>closed_qa</td>\n",
       "    </tr>\n",
       "    <tr>\n",
       "      <th>48</th>\n",
       "      <td>Who was the first to record the Needles and Pi...</td>\n",
       "      <td>\"Needles and Pins\" is a rock song credited to ...</td>\n",
       "      <td>The first artist to record Needles and Pins so...</td>\n",
       "      <td>closed_qa</td>\n",
       "    </tr>\n",
       "  </tbody>\n",
       "</table>\n",
       "</div>"
      ],
      "text/plain": [
       "                                          instruction  \\\n",
       "0          When did Virgin Australia start operating?   \n",
       "4                     When was Tomoaki Komorida born?   \n",
       "6   Given a reference text about Lollapalooza, whe...   \n",
       "11  Who was Kyle Van Zyl playing against when he s...   \n",
       "48  Who was the first to record the Needles and Pi...   \n",
       "\n",
       "                                              context  \\\n",
       "0   Virgin Australia, the trading name of Virgin A...   \n",
       "4   Komorida was born in Kumamoto Prefecture on Ju...   \n",
       "6   Lollapalooza /ˌlɒləpəˈluːzə/ (Lolla) is an ann...   \n",
       "11  Van Zyl joined the Eastern Province Kings Acad...   \n",
       "48  \"Needles and Pins\" is a rock song credited to ...   \n",
       "\n",
       "                                             response   category  \n",
       "0   Virgin Australia commenced services on 31 Augu...  closed_qa  \n",
       "4          Tomoaki Komorida was born on July 10,1981.  closed_qa  \n",
       "6   Lollapalooze is an annual musical festival hel...  closed_qa  \n",
       "11  Kyle Van Zyl was playing against Boland U21 wh...  closed_qa  \n",
       "48  The first artist to record Needles and Pins so...  closed_qa  "
      ]
     },
     "execution_count": 12,
     "metadata": {},
     "output_type": "execute_result"
    }
   ],
   "source": [
    "category = 'closed_qa'\n",
    "print(databricks_dataset[(databricks_dataset['category'] == category) & (len(databricks_dataset['context']) == 0)])\n",
    "databricks_dataset[databricks_dataset['category'] == category].head()"
   ]
  },
  {
   "cell_type": "code",
   "execution_count": 13,
   "metadata": {},
   "outputs": [
    {
     "name": "stdout",
     "output_type": "stream",
     "text": [
      "Empty DataFrame\n",
      "Columns: [instruction, context, response, category]\n",
      "Index: []\n"
     ]
    },
    {
     "data": {
      "text/html": [
       "<div>\n",
       "<style scoped>\n",
       "    .dataframe tbody tr th:only-of-type {\n",
       "        vertical-align: middle;\n",
       "    }\n",
       "\n",
       "    .dataframe tbody tr th {\n",
       "        vertical-align: top;\n",
       "    }\n",
       "\n",
       "    .dataframe thead th {\n",
       "        text-align: right;\n",
       "    }\n",
       "</style>\n",
       "<table border=\"1\" class=\"dataframe\">\n",
       "  <thead>\n",
       "    <tr style=\"text-align: right;\">\n",
       "      <th></th>\n",
       "      <th>instruction</th>\n",
       "      <th>context</th>\n",
       "      <th>response</th>\n",
       "      <th>category</th>\n",
       "    </tr>\n",
       "  </thead>\n",
       "  <tbody>\n",
       "    <tr>\n",
       "      <th>1</th>\n",
       "      <td>Which is a species of fish? Tope or Rope</td>\n",
       "      <td></td>\n",
       "      <td>Tope</td>\n",
       "      <td>classification</td>\n",
       "    </tr>\n",
       "    <tr>\n",
       "      <th>19</th>\n",
       "      <td>Identify which instrument is string or percuss...</td>\n",
       "      <td></td>\n",
       "      <td>Gudok is string, Cantaro is percussion.</td>\n",
       "      <td>classification</td>\n",
       "    </tr>\n",
       "    <tr>\n",
       "      <th>26</th>\n",
       "      <td>Which of the following is useful for transport...</td>\n",
       "      <td></td>\n",
       "      <td>The useful objects for transportation in the l...</td>\n",
       "      <td>classification</td>\n",
       "    </tr>\n",
       "    <tr>\n",
       "      <th>27</th>\n",
       "      <td>Identify which instrument is string or woodwin...</td>\n",
       "      <td></td>\n",
       "      <td>Zurna is woodwind, Panduri is string.</td>\n",
       "      <td>classification</td>\n",
       "    </tr>\n",
       "    <tr>\n",
       "      <th>62</th>\n",
       "      <td>Identify which instrument is string or percuss...</td>\n",
       "      <td></td>\n",
       "      <td>Shamisen is string, Kpanlogo is percussion.</td>\n",
       "      <td>classification</td>\n",
       "    </tr>\n",
       "  </tbody>\n",
       "</table>\n",
       "</div>"
      ],
      "text/plain": [
       "                                          instruction context  \\\n",
       "1            Which is a species of fish? Tope or Rope           \n",
       "19  Identify which instrument is string or percuss...           \n",
       "26  Which of the following is useful for transport...           \n",
       "27  Identify which instrument is string or woodwin...           \n",
       "62  Identify which instrument is string or percuss...           \n",
       "\n",
       "                                             response        category  \n",
       "1                                                Tope  classification  \n",
       "19            Gudok is string, Cantaro is percussion.  classification  \n",
       "26  The useful objects for transportation in the l...  classification  \n",
       "27              Zurna is woodwind, Panduri is string.  classification  \n",
       "62        Shamisen is string, Kpanlogo is percussion.  classification  "
      ]
     },
     "execution_count": 13,
     "metadata": {},
     "output_type": "execute_result"
    }
   ],
   "source": [
    "category = 'classification'\n",
    "print(databricks_dataset[(databricks_dataset['category'] == category) & (len(databricks_dataset['context']) == 0)])\n",
    "databricks_dataset[databricks_dataset['category'] == category].head()"
   ]
  },
  {
   "cell_type": "code",
   "execution_count": 14,
   "metadata": {},
   "outputs": [
    {
     "name": "stdout",
     "output_type": "stream",
     "text": [
      "Empty DataFrame\n",
      "Columns: [instruction, context, response, category]\n",
      "Index: []\n"
     ]
    },
    {
     "data": {
      "text/html": [
       "<div>\n",
       "<style scoped>\n",
       "    .dataframe tbody tr th:only-of-type {\n",
       "        vertical-align: middle;\n",
       "    }\n",
       "\n",
       "    .dataframe tbody tr th {\n",
       "        vertical-align: top;\n",
       "    }\n",
       "\n",
       "    .dataframe thead th {\n",
       "        text-align: right;\n",
       "    }\n",
       "</style>\n",
       "<table border=\"1\" class=\"dataframe\">\n",
       "  <thead>\n",
       "    <tr style=\"text-align: right;\">\n",
       "      <th></th>\n",
       "      <th>instruction</th>\n",
       "      <th>context</th>\n",
       "      <th>response</th>\n",
       "      <th>category</th>\n",
       "    </tr>\n",
       "  </thead>\n",
       "  <tbody>\n",
       "    <tr>\n",
       "      <th>2</th>\n",
       "      <td>Why can camels survive for long without water?</td>\n",
       "      <td></td>\n",
       "      <td>Camels use the fat in their humps to keep them...</td>\n",
       "      <td>open_qa</td>\n",
       "    </tr>\n",
       "    <tr>\n",
       "      <th>3</th>\n",
       "      <td>Alice's parents have three daughters: Amy, Jes...</td>\n",
       "      <td></td>\n",
       "      <td>The name of the third daughter is Alice</td>\n",
       "      <td>open_qa</td>\n",
       "    </tr>\n",
       "    <tr>\n",
       "      <th>7</th>\n",
       "      <td>Who gave the UN the land in NY to build their HQ</td>\n",
       "      <td></td>\n",
       "      <td>John D Rockerfeller</td>\n",
       "      <td>open_qa</td>\n",
       "    </tr>\n",
       "    <tr>\n",
       "      <th>13</th>\n",
       "      <td>What is a polygon?</td>\n",
       "      <td></td>\n",
       "      <td>A polygon is a form in Geometry.  It is a sing...</td>\n",
       "      <td>open_qa</td>\n",
       "    </tr>\n",
       "    <tr>\n",
       "      <th>15</th>\n",
       "      <td>Which episodes of season four of Game of Thron...</td>\n",
       "      <td></td>\n",
       "      <td>She directed \"Oathkeeper\" and \"First of His Na...</td>\n",
       "      <td>open_qa</td>\n",
       "    </tr>\n",
       "  </tbody>\n",
       "</table>\n",
       "</div>"
      ],
      "text/plain": [
       "                                          instruction context  \\\n",
       "2      Why can camels survive for long without water?           \n",
       "3   Alice's parents have three daughters: Amy, Jes...           \n",
       "7    Who gave the UN the land in NY to build their HQ           \n",
       "13                                 What is a polygon?           \n",
       "15  Which episodes of season four of Game of Thron...           \n",
       "\n",
       "                                             response category  \n",
       "2   Camels use the fat in their humps to keep them...  open_qa  \n",
       "3             The name of the third daughter is Alice  open_qa  \n",
       "7                                 John D Rockerfeller  open_qa  \n",
       "13  A polygon is a form in Geometry.  It is a sing...  open_qa  \n",
       "15  She directed \"Oathkeeper\" and \"First of His Na...  open_qa  "
      ]
     },
     "execution_count": 14,
     "metadata": {},
     "output_type": "execute_result"
    }
   ],
   "source": [
    "category = 'open_qa'\n",
    "print(databricks_dataset[(databricks_dataset['category'] == category) & (len(databricks_dataset['context']) == 0)])\n",
    "databricks_dataset[databricks_dataset['category'] == category].head()"
   ]
  },
  {
   "cell_type": "code",
   "execution_count": 15,
   "metadata": {},
   "outputs": [
    {
     "name": "stdout",
     "output_type": "stream",
     "text": [
      "Empty DataFrame\n",
      "Columns: [instruction, context, response, category]\n",
      "Index: []\n"
     ]
    },
    {
     "data": {
      "text/html": [
       "<div>\n",
       "<style scoped>\n",
       "    .dataframe tbody tr th:only-of-type {\n",
       "        vertical-align: middle;\n",
       "    }\n",
       "\n",
       "    .dataframe tbody tr th {\n",
       "        vertical-align: top;\n",
       "    }\n",
       "\n",
       "    .dataframe thead th {\n",
       "        text-align: right;\n",
       "    }\n",
       "</style>\n",
       "<table border=\"1\" class=\"dataframe\">\n",
       "  <thead>\n",
       "    <tr style=\"text-align: right;\">\n",
       "      <th></th>\n",
       "      <th>instruction</th>\n",
       "      <th>context</th>\n",
       "      <th>response</th>\n",
       "      <th>category</th>\n",
       "    </tr>\n",
       "  </thead>\n",
       "  <tbody>\n",
       "    <tr>\n",
       "      <th>5</th>\n",
       "      <td>If I have more pieces at the time of stalemate...</td>\n",
       "      <td>Stalemate is a situation in chess where the pl...</td>\n",
       "      <td>No. \\nStalemate is a drawn position. It doesn'...</td>\n",
       "      <td>information_extraction</td>\n",
       "    </tr>\n",
       "    <tr>\n",
       "      <th>9</th>\n",
       "      <td>Who was John Moses Browning?</td>\n",
       "      <td>John Moses Browning (January 23, 1855 – Novemb...</td>\n",
       "      <td>John Moses Browning is one of the most well-kn...</td>\n",
       "      <td>information_extraction</td>\n",
       "    </tr>\n",
       "    <tr>\n",
       "      <th>10</th>\n",
       "      <td>Who is Thomas Jefferson?</td>\n",
       "      <td>Thomas Jefferson (April 13, 1743 – July 4, 182...</td>\n",
       "      <td>Thomas Jefferson (April 13, 1743 – July 4, 182...</td>\n",
       "      <td>information_extraction</td>\n",
       "    </tr>\n",
       "    <tr>\n",
       "      <th>12</th>\n",
       "      <td>From the passage list down the areas for which...</td>\n",
       "      <td>Dar es Salaam (/ˌdɑːr ɛs səˈlɑːm/; from Arabic...</td>\n",
       "      <td>arts, fashion, media, film, television, finance</td>\n",
       "      <td>information_extraction</td>\n",
       "    </tr>\n",
       "    <tr>\n",
       "      <th>16</th>\n",
       "      <td>What is process mining?</td>\n",
       "      <td>Process mining is a family of techniques relat...</td>\n",
       "      <td>Process mining brings together data mining, da...</td>\n",
       "      <td>information_extraction</td>\n",
       "    </tr>\n",
       "  </tbody>\n",
       "</table>\n",
       "</div>"
      ],
      "text/plain": [
       "                                          instruction  \\\n",
       "5   If I have more pieces at the time of stalemate...   \n",
       "9                        Who was John Moses Browning?   \n",
       "10                           Who is Thomas Jefferson?   \n",
       "12  From the passage list down the areas for which...   \n",
       "16                            What is process mining?   \n",
       "\n",
       "                                              context  \\\n",
       "5   Stalemate is a situation in chess where the pl...   \n",
       "9   John Moses Browning (January 23, 1855 – Novemb...   \n",
       "10  Thomas Jefferson (April 13, 1743 – July 4, 182...   \n",
       "12  Dar es Salaam (/ˌdɑːr ɛs səˈlɑːm/; from Arabic...   \n",
       "16  Process mining is a family of techniques relat...   \n",
       "\n",
       "                                             response                category  \n",
       "5   No. \\nStalemate is a drawn position. It doesn'...  information_extraction  \n",
       "9   John Moses Browning is one of the most well-kn...  information_extraction  \n",
       "10  Thomas Jefferson (April 13, 1743 – July 4, 182...  information_extraction  \n",
       "12    arts, fashion, media, film, television, finance  information_extraction  \n",
       "16  Process mining brings together data mining, da...  information_extraction  "
      ]
     },
     "execution_count": 15,
     "metadata": {},
     "output_type": "execute_result"
    }
   ],
   "source": [
    "category = 'information_extraction'\n",
    "print(databricks_dataset[(databricks_dataset['category'] == category) & (len(databricks_dataset['context']) == 0)])\n",
    "databricks_dataset[databricks_dataset['category'] == category].head()"
   ]
  },
  {
   "cell_type": "code",
   "execution_count": 16,
   "metadata": {},
   "outputs": [
    {
     "name": "stdout",
     "output_type": "stream",
     "text": [
      "Empty DataFrame\n",
      "Columns: [instruction, context, response, category]\n",
      "Index: []\n"
     ]
    },
    {
     "data": {
      "text/html": [
       "<div>\n",
       "<style scoped>\n",
       "    .dataframe tbody tr th:only-of-type {\n",
       "        vertical-align: middle;\n",
       "    }\n",
       "\n",
       "    .dataframe tbody tr th {\n",
       "        vertical-align: top;\n",
       "    }\n",
       "\n",
       "    .dataframe thead th {\n",
       "        text-align: right;\n",
       "    }\n",
       "</style>\n",
       "<table border=\"1\" class=\"dataframe\">\n",
       "  <thead>\n",
       "    <tr style=\"text-align: right;\">\n",
       "      <th></th>\n",
       "      <th>instruction</th>\n",
       "      <th>context</th>\n",
       "      <th>response</th>\n",
       "      <th>category</th>\n",
       "    </tr>\n",
       "  </thead>\n",
       "  <tbody>\n",
       "    <tr>\n",
       "      <th>8</th>\n",
       "      <td>Why mobile is bad for human</td>\n",
       "      <td></td>\n",
       "      <td>We are always engaged one phone which is not g...</td>\n",
       "      <td>brainstorming</td>\n",
       "    </tr>\n",
       "    <tr>\n",
       "      <th>17</th>\n",
       "      <td>What are some unique curtain tie backs that yo...</td>\n",
       "      <td></td>\n",
       "      <td>There are many items you can use to make a cur...</td>\n",
       "      <td>brainstorming</td>\n",
       "    </tr>\n",
       "    <tr>\n",
       "      <th>20</th>\n",
       "      <td>Give me the top 5 golf equipment company names.</td>\n",
       "      <td></td>\n",
       "      <td>Titleist, Taylormade, Callaway, Ping, Cobra</td>\n",
       "      <td>brainstorming</td>\n",
       "    </tr>\n",
       "    <tr>\n",
       "      <th>35</th>\n",
       "      <td>Give me a list of some characteristics of a go...</td>\n",
       "      <td></td>\n",
       "      <td>Some characteristics of good coffee shops incl...</td>\n",
       "      <td>brainstorming</td>\n",
       "    </tr>\n",
       "    <tr>\n",
       "      <th>47</th>\n",
       "      <td>What is the best tv series in the world</td>\n",
       "      <td></td>\n",
       "      <td>Dexter- The Dexter is so exciting to watch tha...</td>\n",
       "      <td>brainstorming</td>\n",
       "    </tr>\n",
       "  </tbody>\n",
       "</table>\n",
       "</div>"
      ],
      "text/plain": [
       "                                          instruction context  \\\n",
       "8                         Why mobile is bad for human           \n",
       "17  What are some unique curtain tie backs that yo...           \n",
       "20    Give me the top 5 golf equipment company names.           \n",
       "35  Give me a list of some characteristics of a go...           \n",
       "47            What is the best tv series in the world           \n",
       "\n",
       "                                             response       category  \n",
       "8   We are always engaged one phone which is not g...  brainstorming  \n",
       "17  There are many items you can use to make a cur...  brainstorming  \n",
       "20        Titleist, Taylormade, Callaway, Ping, Cobra  brainstorming  \n",
       "35  Some characteristics of good coffee shops incl...  brainstorming  \n",
       "47  Dexter- The Dexter is so exciting to watch tha...  brainstorming  "
      ]
     },
     "execution_count": 16,
     "metadata": {},
     "output_type": "execute_result"
    }
   ],
   "source": [
    "category = 'brainstorming'\n",
    "print(databricks_dataset[(databricks_dataset['category'] == category) & (len(databricks_dataset['context']) == 0)])\n",
    "databricks_dataset[databricks_dataset['category'] == category].head()"
   ]
  },
  {
   "cell_type": "code",
   "execution_count": 17,
   "metadata": {},
   "outputs": [
    {
     "name": "stdout",
     "output_type": "stream",
     "text": [
      "Empty DataFrame\n",
      "Columns: [instruction, context, response, category]\n",
      "Index: []\n"
     ]
    },
    {
     "data": {
      "text/html": [
       "<div>\n",
       "<style scoped>\n",
       "    .dataframe tbody tr th:only-of-type {\n",
       "        vertical-align: middle;\n",
       "    }\n",
       "\n",
       "    .dataframe tbody tr th {\n",
       "        vertical-align: top;\n",
       "    }\n",
       "\n",
       "    .dataframe thead th {\n",
       "        text-align: right;\n",
       "    }\n",
       "</style>\n",
       "<table border=\"1\" class=\"dataframe\">\n",
       "  <thead>\n",
       "    <tr style=\"text-align: right;\">\n",
       "      <th></th>\n",
       "      <th>instruction</th>\n",
       "      <th>context</th>\n",
       "      <th>response</th>\n",
       "      <th>category</th>\n",
       "    </tr>\n",
       "  </thead>\n",
       "  <tbody>\n",
       "    <tr>\n",
       "      <th>14</th>\n",
       "      <td>How do I start running?</td>\n",
       "      <td></td>\n",
       "      <td>Make sure you get comfortable running shoes an...</td>\n",
       "      <td>general_qa</td>\n",
       "    </tr>\n",
       "    <tr>\n",
       "      <th>30</th>\n",
       "      <td>What is best Playstation or Xbox</td>\n",
       "      <td></td>\n",
       "      <td>Playstation and Xbox are two competing game co...</td>\n",
       "      <td>general_qa</td>\n",
       "    </tr>\n",
       "    <tr>\n",
       "      <th>33</th>\n",
       "      <td>what is REST API</td>\n",
       "      <td></td>\n",
       "      <td>REST API is an architectural style for buildin...</td>\n",
       "      <td>general_qa</td>\n",
       "    </tr>\n",
       "    <tr>\n",
       "      <th>38</th>\n",
       "      <td>How can I contribute to Spark?</td>\n",
       "      <td></td>\n",
       "      <td>Yes, Spark is an open source project and anyon...</td>\n",
       "      <td>general_qa</td>\n",
       "    </tr>\n",
       "    <tr>\n",
       "      <th>43</th>\n",
       "      <td>Did dinosaurs have lips?</td>\n",
       "      <td></td>\n",
       "      <td>Recent research suggests that the popular perc...</td>\n",
       "      <td>general_qa</td>\n",
       "    </tr>\n",
       "  </tbody>\n",
       "</table>\n",
       "</div>"
      ],
      "text/plain": [
       "                         instruction context  \\\n",
       "14           How do I start running?           \n",
       "30  What is best Playstation or Xbox           \n",
       "33                  what is REST API           \n",
       "38    How can I contribute to Spark?           \n",
       "43          Did dinosaurs have lips?           \n",
       "\n",
       "                                             response    category  \n",
       "14  Make sure you get comfortable running shoes an...  general_qa  \n",
       "30  Playstation and Xbox are two competing game co...  general_qa  \n",
       "33  REST API is an architectural style for buildin...  general_qa  \n",
       "38  Yes, Spark is an open source project and anyon...  general_qa  \n",
       "43  Recent research suggests that the popular perc...  general_qa  "
      ]
     },
     "execution_count": 17,
     "metadata": {},
     "output_type": "execute_result"
    }
   ],
   "source": [
    "category = 'general_qa'\n",
    "print(databricks_dataset[(databricks_dataset['category'] == category) & (len(databricks_dataset['context']) == 0)])\n",
    "databricks_dataset[databricks_dataset['category'] == category].head()"
   ]
  },
  {
   "cell_type": "code",
   "execution_count": 18,
   "metadata": {},
   "outputs": [
    {
     "name": "stdout",
     "output_type": "stream",
     "text": [
      "Empty DataFrame\n",
      "Columns: [instruction, context, response, category]\n",
      "Index: []\n"
     ]
    },
    {
     "data": {
      "text/html": [
       "<div>\n",
       "<style scoped>\n",
       "    .dataframe tbody tr th:only-of-type {\n",
       "        vertical-align: middle;\n",
       "    }\n",
       "\n",
       "    .dataframe tbody tr th {\n",
       "        vertical-align: top;\n",
       "    }\n",
       "\n",
       "    .dataframe thead th {\n",
       "        text-align: right;\n",
       "    }\n",
       "</style>\n",
       "<table border=\"1\" class=\"dataframe\">\n",
       "  <thead>\n",
       "    <tr style=\"text-align: right;\">\n",
       "      <th></th>\n",
       "      <th>instruction</th>\n",
       "      <th>context</th>\n",
       "      <th>response</th>\n",
       "      <th>category</th>\n",
       "    </tr>\n",
       "  </thead>\n",
       "  <tbody>\n",
       "    <tr>\n",
       "      <th>18</th>\n",
       "      <td>What is a dispersive prism?</td>\n",
       "      <td>In optics, a dispersive prism is an optical pr...</td>\n",
       "      <td>A dispersive prism is an optical prism that di...</td>\n",
       "      <td>summarization</td>\n",
       "    </tr>\n",
       "    <tr>\n",
       "      <th>36</th>\n",
       "      <td>Please summarize what Linkedin does.</td>\n",
       "      <td>LinkedIn (/lɪŋktˈɪn/) is a business and employ...</td>\n",
       "      <td>Linkedin is a social platform that business pr...</td>\n",
       "      <td>summarization</td>\n",
       "    </tr>\n",
       "    <tr>\n",
       "      <th>40</th>\n",
       "      <td>Using examples taken from the text give me a s...</td>\n",
       "      <td>Slavery ended in the United States in 1865 wit...</td>\n",
       "      <td>In spite of progressive changes since the end ...</td>\n",
       "      <td>summarization</td>\n",
       "    </tr>\n",
       "    <tr>\n",
       "      <th>49</th>\n",
       "      <td>Provide me a list of the different types of ha...</td>\n",
       "      <td>Different types of climbing warrant particular...</td>\n",
       "      <td>Minimalistic Harness: has gear loops that are ...</td>\n",
       "      <td>summarization</td>\n",
       "    </tr>\n",
       "    <tr>\n",
       "      <th>59</th>\n",
       "      <td>Without quoting directly from the text give me...</td>\n",
       "      <td>Key lime pie is probably derived from the \"Mag...</td>\n",
       "      <td>Key lime pie is an American dessert pie. It is...</td>\n",
       "      <td>summarization</td>\n",
       "    </tr>\n",
       "  </tbody>\n",
       "</table>\n",
       "</div>"
      ],
      "text/plain": [
       "                                          instruction  \\\n",
       "18                        What is a dispersive prism?   \n",
       "36               Please summarize what Linkedin does.   \n",
       "40  Using examples taken from the text give me a s...   \n",
       "49  Provide me a list of the different types of ha...   \n",
       "59  Without quoting directly from the text give me...   \n",
       "\n",
       "                                              context  \\\n",
       "18  In optics, a dispersive prism is an optical pr...   \n",
       "36  LinkedIn (/lɪŋktˈɪn/) is a business and employ...   \n",
       "40  Slavery ended in the United States in 1865 wit...   \n",
       "49  Different types of climbing warrant particular...   \n",
       "59  Key lime pie is probably derived from the \"Mag...   \n",
       "\n",
       "                                             response       category  \n",
       "18  A dispersive prism is an optical prism that di...  summarization  \n",
       "36  Linkedin is a social platform that business pr...  summarization  \n",
       "40  In spite of progressive changes since the end ...  summarization  \n",
       "49  Minimalistic Harness: has gear loops that are ...  summarization  \n",
       "59  Key lime pie is an American dessert pie. It is...  summarization  "
      ]
     },
     "execution_count": 18,
     "metadata": {},
     "output_type": "execute_result"
    }
   ],
   "source": [
    "category = 'summarization'\n",
    "print(databricks_dataset[(databricks_dataset['category'] == category) & (len(databricks_dataset['context']) == 0)])\n",
    "databricks_dataset[databricks_dataset['category'] == category].head()"
   ]
  },
  {
   "cell_type": "code",
   "execution_count": 19,
   "metadata": {},
   "outputs": [
    {
     "name": "stdout",
     "output_type": "stream",
     "text": [
      "Empty DataFrame\n",
      "Columns: [instruction, context, response, category]\n",
      "Index: []\n"
     ]
    },
    {
     "data": {
      "text/html": [
       "<div>\n",
       "<style scoped>\n",
       "    .dataframe tbody tr th:only-of-type {\n",
       "        vertical-align: middle;\n",
       "    }\n",
       "\n",
       "    .dataframe tbody tr th {\n",
       "        vertical-align: top;\n",
       "    }\n",
       "\n",
       "    .dataframe thead th {\n",
       "        text-align: right;\n",
       "    }\n",
       "</style>\n",
       "<table border=\"1\" class=\"dataframe\">\n",
       "  <thead>\n",
       "    <tr style=\"text-align: right;\">\n",
       "      <th></th>\n",
       "      <th>instruction</th>\n",
       "      <th>context</th>\n",
       "      <th>response</th>\n",
       "      <th>category</th>\n",
       "    </tr>\n",
       "  </thead>\n",
       "  <tbody>\n",
       "    <tr>\n",
       "      <th>42</th>\n",
       "      <td>write a scene between two actors discussing mo...</td>\n",
       "      <td></td>\n",
       "      <td>Actress 1: \"Oh my god, have you seen Inception...</td>\n",
       "      <td>creative_writing</td>\n",
       "    </tr>\n",
       "    <tr>\n",
       "      <th>56</th>\n",
       "      <td>Write a short paragraph about why you should n...</td>\n",
       "      <td></td>\n",
       "      <td>Having both a pet bird and a pet cat is not a ...</td>\n",
       "      <td>creative_writing</td>\n",
       "    </tr>\n",
       "    <tr>\n",
       "      <th>96</th>\n",
       "      <td>Write a short story about a person who discove...</td>\n",
       "      <td></td>\n",
       "      <td>It was going to be a long day.  With her broth...</td>\n",
       "      <td>creative_writing</td>\n",
       "    </tr>\n",
       "    <tr>\n",
       "      <th>112</th>\n",
       "      <td>Plan for a three day road trip for May long we...</td>\n",
       "      <td></td>\n",
       "      <td>May 26: Drive to Montreal from Westfield, NJ. ...</td>\n",
       "      <td>creative_writing</td>\n",
       "    </tr>\n",
       "    <tr>\n",
       "      <th>123</th>\n",
       "      <td>write a short essay on California wild fire</td>\n",
       "      <td></td>\n",
       "      <td>California is known for its hot, dry summers, ...</td>\n",
       "      <td>creative_writing</td>\n",
       "    </tr>\n",
       "  </tbody>\n",
       "</table>\n",
       "</div>"
      ],
      "text/plain": [
       "                                           instruction context  \\\n",
       "42   write a scene between two actors discussing mo...           \n",
       "56   Write a short paragraph about why you should n...           \n",
       "96   Write a short story about a person who discove...           \n",
       "112  Plan for a three day road trip for May long we...           \n",
       "123        write a short essay on California wild fire           \n",
       "\n",
       "                                              response          category  \n",
       "42   Actress 1: \"Oh my god, have you seen Inception...  creative_writing  \n",
       "56   Having both a pet bird and a pet cat is not a ...  creative_writing  \n",
       "96   It was going to be a long day.  With her broth...  creative_writing  \n",
       "112  May 26: Drive to Montreal from Westfield, NJ. ...  creative_writing  \n",
       "123  California is known for its hot, dry summers, ...  creative_writing  "
      ]
     },
     "execution_count": 19,
     "metadata": {},
     "output_type": "execute_result"
    }
   ],
   "source": [
    "category = 'creative_writing'\n",
    "print(databricks_dataset[(databricks_dataset['category'] == category) & (len(databricks_dataset['context']) == 0)])\n",
    "databricks_dataset[databricks_dataset['category'] == category].head()"
   ]
  },
  {
   "cell_type": "code",
   "execution_count": 20,
   "metadata": {},
   "outputs": [],
   "source": [
    "merge_rewrite_dataset['prompt'] = merge_rewrite_dataset.apply(lambda x: x['rewrite_prompt'] + ' ' + x['original_text'], axis=1)\n",
    "databricks_dataset['prompt'] = databricks_dataset.apply(lambda x: x['instruction'] + ' ' + x['context'], axis=1)"
   ]
  },
  {
   "cell_type": "code",
   "execution_count": 21,
   "metadata": {},
   "outputs": [],
   "source": [
    "databricks_dataset = databricks_dataset.drop(columns=['instruction', 'context', 'response'])\n",
    "merge_rewrite_dataset = merge_rewrite_dataset.drop(columns=['rewrite_prompt', 'rewritten_text', 'original_text'])"
   ]
  },
  {
   "cell_type": "markdown",
   "metadata": {},
   "source": [
    "### Define categories that need retrieval"
   ]
  },
  {
   "cell_type": "code",
   "execution_count": 22,
   "metadata": {},
   "outputs": [],
   "source": [
    "need_retrieval_categories = ['open_qa', 'brainstorming', 'general_qa', 'creative_writing']"
   ]
  },
  {
   "cell_type": "code",
   "execution_count": 23,
   "metadata": {},
   "outputs": [],
   "source": [
    "merge_rewrite_dataset['need_retrieval'] = 0\n",
    "databricks_dataset['need_retrieval'] = databricks_dataset['category'].apply(lambda x: 1 if x in need_retrieval_categories else 0)"
   ]
  },
  {
   "cell_type": "markdown",
   "metadata": {},
   "source": [
    "### Concat datasets"
   ]
  },
  {
   "cell_type": "code",
   "execution_count": 24,
   "metadata": {},
   "outputs": [
    {
     "data": {
      "text/plain": [
       "(28368, 3)"
      ]
     },
     "execution_count": 24,
     "metadata": {},
     "output_type": "execute_result"
    }
   ],
   "source": [
    "merged_dataset = pd.concat([databricks_dataset, merge_rewrite_dataset], axis=0)\n",
    "merged_dataset.shape"
   ]
  },
  {
   "cell_type": "markdown",
   "metadata": {},
   "source": [
    "As we can see the dataset is imbalanced. "
   ]
  },
  {
   "cell_type": "code",
   "execution_count": 25,
   "metadata": {},
   "outputs": [
    {
     "name": "stdout",
     "output_type": "stream",
     "text": [
      "0.2962492949802594\n"
     ]
    },
    {
     "data": {
      "text/plain": [
       "(28368, 3)"
      ]
     },
     "execution_count": 25,
     "metadata": {},
     "output_type": "execute_result"
    }
   ],
   "source": [
    "print(merged_dataset['need_retrieval'].sum() / merged_dataset['need_retrieval'].shape[0])\n",
    "merged_dataset.shape"
   ]
  },
  {
   "cell_type": "markdown",
   "metadata": {},
   "source": [
    "### Save dataset"
   ]
  },
  {
   "cell_type": "code",
   "execution_count": 26,
   "metadata": {},
   "outputs": [],
   "source": [
    "merged_dataset.to_csv('../data/merged.csv', index=False)"
   ]
  },
  {
   "cell_type": "code",
   "execution_count": null,
   "metadata": {},
   "outputs": [],
   "source": []
  }
 ],
 "metadata": {
  "kernelspec": {
   "display_name": "Python 3",
   "language": "python",
   "name": "python3"
  },
  "language_info": {
   "codemirror_mode": {
    "name": "ipython",
    "version": 3
   },
   "file_extension": ".py",
   "mimetype": "text/x-python",
   "name": "python",
   "nbconvert_exporter": "python",
   "pygments_lexer": "ipython3",
   "version": "3.11.11"
  }
 },
 "nbformat": 4,
 "nbformat_minor": 2
}
